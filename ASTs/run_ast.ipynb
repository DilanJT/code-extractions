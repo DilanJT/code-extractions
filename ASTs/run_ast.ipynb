{
 "cells": [
  {
   "cell_type": "code",
   "execution_count": 1,
   "metadata": {},
   "outputs": [
    {
     "name": "stdout",
     "output_type": "stream",
     "text": [
      "Module(body=[Expr(value=Call(func=Name(id='print', ctx=Load()), args=[Constant(value='Hello World!')], keywords=[]))], type_ignores=[])\n",
      "['foo', 'bar']\n",
      "['add', 'subtract']\n"
     ]
    }
   ],
   "source": [
    "from ast_extractor import extract_functions_code\n",
    "\n",
    "code = \"\"\"\n",
    "def add(x, y):\n",
    "    return x + y\n",
    "\n",
    "def subtract(x, y):\n",
    "    return x - y\n",
    "\"\"\"\n",
    "\n",
    "functions = extract_functions_code(code)\n",
    "print(functions)\n"
   ]
  },
  {
   "cell_type": "code",
   "execution_count": null,
   "metadata": {},
   "outputs": [],
   "source": []
  }
 ],
 "metadata": {
  "kernelspec": {
   "display_name": "base",
   "language": "python",
   "name": "python3"
  },
  "language_info": {
   "codemirror_mode": {
    "name": "ipython",
    "version": 3
   },
   "file_extension": ".py",
   "mimetype": "text/x-python",
   "name": "python",
   "nbconvert_exporter": "python",
   "pygments_lexer": "ipython3",
   "version": "3.9.12"
  },
  "orig_nbformat": 4,
  "vscode": {
   "interpreter": {
    "hash": "7185d61c927ddfb37d1dd8c83ef96f8f112620be1468d632fb729d0423a9e939"
   }
  }
 },
 "nbformat": 4,
 "nbformat_minor": 2
}
